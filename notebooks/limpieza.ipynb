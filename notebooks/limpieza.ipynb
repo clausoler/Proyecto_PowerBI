{
 "cells": [
  {
   "cell_type": "code",
   "execution_count": 1,
   "metadata": {},
   "outputs": [
    {
     "name": "stdout",
     "output_type": "stream",
     "text": [
      "c:\\Users\\claud\\GIT\\Proyecto_PowerBI\\venv\\Scripts\\python.exe\n"
     ]
    }
   ],
   "source": [
    "import sys\n",
    "print(sys.executable)"
   ]
  },
  {
   "cell_type": "code",
   "execution_count": 2,
   "metadata": {},
   "outputs": [],
   "source": [
    "import pandas as pd\n",
    "import numpy as np\n",
    " \n",
    "# Configuración\n",
    "# -----------------------------------------------------------------------\n",
    "pd.set_option('display.max_columns', None) # para poder visualizar todas las columnas de los DataFrames\n",
    "\n",
    "# Para gestión de fechas\n",
    "# -----------------------------------------------------------------------\n",
    "from datetime import datetime"
   ]
  },
  {
   "cell_type": "code",
   "execution_count": 3,
   "metadata": {},
   "outputs": [
    {
     "name": "stdout",
     "output_type": "stream",
     "text": [
      "<class 'pandas.core.frame.DataFrame'>\n",
      "Index: 15000 entries, 0 to 5171\n",
      "Data columns (total 15 columns):\n",
      " #   Column           Non-Null Count  Dtype         \n",
      "---  ------           --------------  -----         \n",
      " 0   id_reserva       15000 non-null  object        \n",
      " 1   nombre           15000 non-null  object        \n",
      " 2   apellido         15000 non-null  object        \n",
      " 3   mail             15000 non-null  object        \n",
      " 4   competencia      15000 non-null  bool          \n",
      " 5   fecha_reserva    15000 non-null  datetime64[ns]\n",
      " 6   inicio_estancia  15000 non-null  datetime64[ns]\n",
      " 7   final_estancia   15000 non-null  datetime64[ns]\n",
      " 8   id_hotel         15000 non-null  int64         \n",
      " 9   nombre_hotel     15000 non-null  object        \n",
      " 10  valoración       15000 non-null  float64       \n",
      " 11  nombre_ciudad    15000 non-null  object        \n",
      " 12  precio_noche     15000 non-null  float64       \n",
      " 13  id_cliente       15000 non-null  object        \n",
      " 14  id_ciudad        15000 non-null  int64         \n",
      "dtypes: bool(1), datetime64[ns](3), float64(2), int64(2), object(7)\n",
      "memory usage: 1.7+ MB\n"
     ]
    }
   ],
   "source": [
    "df_pickle = pd.read_pickle(\"../data/data_limpio/reservas_hoteles_limpio.pkl\")\n",
    "df_pickle.info()"
   ]
  },
  {
   "cell_type": "code",
   "execution_count": 4,
   "metadata": {},
   "outputs": [
    {
     "name": "stdout",
     "output_type": "stream",
     "text": [
      "Hoteles únicos: 29\n"
     ]
    }
   ],
   "source": [
    "# Contar hoteles únicos\n",
    "num_hoteles_unicos = df_pickle['nombre_hotel'].nunique()\n",
    "print(f\"Hoteles únicos: {num_hoteles_unicos}\")"
   ]
  },
  {
   "cell_type": "code",
   "execution_count": 5,
   "metadata": {},
   "outputs": [
    {
     "name": "stdout",
     "output_type": "stream",
     "text": [
      "IDs únicos asignados: 29\n",
      "                                id_reserva          nombre   apellido  \\\n",
      "0     40c4cb55-d1f5-407b-832f-4756b8ff77b4           Maite  Calatayud   \n",
      "1     f2ce8df5-7844-43e1-8c0f-97ce7a208f21           Tecla      Bonet   \n",
      "2     57d4515a-447d-4067-afcb-9bdcf4e4e915         Amílcar     Andrés   \n",
      "3     ccbd9fe9-5a60-4f6f-bed3-73a7158ecba7            Joan    Vazquez   \n",
      "4     99c3dc4f-663c-45f7-849a-ac9313f3746a           Chelo       Flor   \n",
      "...                                    ...             ...        ...   \n",
      "5167  e856adee-838c-4031-920c-05ec5f1e32e6          Jesusa   Espinosa   \n",
      "5168  77134049-6e4f-49b0-a6f8-93b7466b1c22            Cruz    Hurtado   \n",
      "5169  19aef6f3-3e85-4719-9dff-b768d9bfe5a9  Jose Francisco     Cortes   \n",
      "5170  aa092c3e-7fe6-4985-a5a8-cacd38554b1b            Toño    Narváez   \n",
      "5171  6d1f590c-ae87-4582-bc99-9b8cbf1d8e28        Custodia      Marco   \n",
      "\n",
      "                                   mail  competencia fecha_reserva  \\\n",
      "0           maite.calatayud@example.com        False    2025-02-09   \n",
      "1               tecla.bonet@example.com        False    2025-02-08   \n",
      "2            amílcar.andrés@example.com        False    2025-02-02   \n",
      "3              joan.vazquez@example.com        False    2025-02-08   \n",
      "4                chelo.flor@example.com        False    2025-02-09   \n",
      "...                                 ...          ...           ...   \n",
      "5167        jesusa.espinosa@example.com         True    2025-02-22   \n",
      "5168           cruz.hurtado@example.com         True    2025-02-22   \n",
      "5169  jose francisco.cortes@example.com         True    2025-02-22   \n",
      "5170           toño.narváez@example.com         True    2025-02-22   \n",
      "5171         custodia.marco@example.com         True    2025-02-22   \n",
      "\n",
      "     inicio_estancia final_estancia  id_hotel                    nombre_hotel  \\\n",
      "0         2025-03-01     2025-03-02         0               Hotel Monte Verde   \n",
      "1         2025-03-01     2025-03-02         1            Hotel Brisas del Mar   \n",
      "2         2025-03-01     2025-03-02         2            Hotel Camino del Sol   \n",
      "3         2025-03-01     2025-03-02         3          Hotel Puerta del Cielo   \n",
      "4         2025-03-01     2025-03-02         4              Hotel Encanto Real   \n",
      "...              ...            ...       ...                             ...   \n",
      "5167      2025-03-01     2025-03-02        27          ibis Madrid Alcobendas   \n",
      "5168      2025-03-01     2025-03-02        25  ibis Madrid Alcorcon Tresaguas   \n",
      "5169      2025-03-01     2025-03-02        26   ibis budget Madrid Aeropuerto   \n",
      "5170      2025-03-01     2025-03-02        22  Novotel Madrid City Las Ventas   \n",
      "5171      2025-03-01     2025-03-02        20           Novotel Madrid Center   \n",
      "\n",
      "      valoración nombre_ciudad  precio_noche    id_cliente  id_ciudad  \n",
      "0            1.0        Madrid    276.612381      cliente1          1  \n",
      "1            5.0        Madrid    275.225921      cliente2          1  \n",
      "2            1.0        Madrid    269.998444      cliente3          1  \n",
      "3            5.0        Madrid    280.151243      cliente4          1  \n",
      "4            1.0        Madrid    278.243996      cliente5          1  \n",
      "...          ...           ...           ...           ...        ...  \n",
      "5167         4.4        Madrid     85.000000  cliente14901          1  \n",
      "5168         4.4        Madrid     90.000000  cliente14902          1  \n",
      "5169         4.0        Madrid     88.000000  cliente14903          1  \n",
      "5170         4.6        Madrid    173.000000  cliente14904          1  \n",
      "5171         4.6        Madrid    255.000000  cliente14905          1  \n",
      "\n",
      "[15000 rows x 15 columns]\n"
     ]
    }
   ],
   "source": [
    "# Asignar IDs únicos correctamente\n",
    "df_pickle['id_hotel'] = pd.factorize(df_pickle['nombre_hotel'])[0]\n",
    "\n",
    "# Verificar si los IDs únicos coinciden con el número de hoteles únicos\n",
    "num_ids_unicos = df_pickle['id_hotel'].nunique()\n",
    "print(f\"IDs únicos asignados: {num_ids_unicos}\")\n",
    "\n",
    "print(df_pickle)"
   ]
  },
  {
   "cell_type": "code",
   "execution_count": 6,
   "metadata": {},
   "outputs": [
    {
     "name": "stdout",
     "output_type": "stream",
     "text": [
      "<class 'pandas.core.frame.DataFrame'>\n",
      "Index: 15000 entries, 0 to 5171\n",
      "Data columns (total 15 columns):\n",
      " #   Column           Non-Null Count  Dtype         \n",
      "---  ------           --------------  -----         \n",
      " 0   id_reserva       15000 non-null  object        \n",
      " 1   nombre           15000 non-null  object        \n",
      " 2   apellido         15000 non-null  object        \n",
      " 3   mail             15000 non-null  object        \n",
      " 4   competencia      15000 non-null  bool          \n",
      " 5   fecha_reserva    15000 non-null  datetime64[ns]\n",
      " 6   inicio_estancia  15000 non-null  datetime64[ns]\n",
      " 7   final_estancia   15000 non-null  datetime64[ns]\n",
      " 8   id_hotel         15000 non-null  int64         \n",
      " 9   nombre_hotel     15000 non-null  object        \n",
      " 10  valoración       15000 non-null  float64       \n",
      " 11  nombre_ciudad    15000 non-null  object        \n",
      " 12  precio_noche     15000 non-null  float64       \n",
      " 13  id_cliente       15000 non-null  object        \n",
      " 14  id_ciudad        15000 non-null  int64         \n",
      "dtypes: bool(1), datetime64[ns](3), float64(2), int64(2), object(7)\n",
      "memory usage: 1.7+ MB\n"
     ]
    }
   ],
   "source": [
    "df_pickle.info()"
   ]
  },
  {
   "cell_type": "code",
   "execution_count": 7,
   "metadata": {},
   "outputs": [
    {
     "name": "stdout",
     "output_type": "stream",
     "text": [
      "Número de hoteles únicos: 29\n"
     ]
    }
   ],
   "source": [
    "num_hoteles_unicos = df_pickle['id_hotel'].nunique()\n",
    "print(f\"Número de hoteles únicos: {num_hoteles_unicos}\")"
   ]
  },
  {
   "cell_type": "code",
   "execution_count": 8,
   "metadata": {},
   "outputs": [],
   "source": [
    "df_pickle.to_parquet('../data/data_limpio/reservas_hoteles_limpio_final.parquet', engine=\"pyarrow\")"
   ]
  },
  {
   "cell_type": "code",
   "execution_count": 9,
   "metadata": {},
   "outputs": [
    {
     "name": "stdout",
     "output_type": "stream",
     "text": [
      "<class 'pandas.core.frame.DataFrame'>\n",
      "RangeIndex: 295 entries, 0 to 294\n",
      "Data columns (total 9 columns):\n",
      " #   Column         Non-Null Count  Dtype         \n",
      "---  ------         --------------  -----         \n",
      " 0   nombre_evento  295 non-null    object        \n",
      " 1   url_evento     295 non-null    object        \n",
      " 2   codigo_postal  295 non-null    int64         \n",
      " 3   direccion      295 non-null    object        \n",
      " 4   horario        295 non-null    object        \n",
      " 5   organizacion   295 non-null    object        \n",
      " 6   fecha_inicio   295 non-null    datetime64[ns]\n",
      " 7   fecha_fin      295 non-null    datetime64[ns]\n",
      " 8   nombre_ciudad  295 non-null    object        \n",
      "dtypes: datetime64[ns](2), int64(1), object(6)\n",
      "memory usage: 20.9+ KB\n"
     ]
    }
   ],
   "source": [
    "df_pickle_v2 = pd.read_pickle(\"../data/data_limpio/eventos_madrid.pkl\")\n",
    "df_pickle_v2.info()"
   ]
  },
  {
   "cell_type": "code",
   "execution_count": 10,
   "metadata": {},
   "outputs": [],
   "source": [
    "df_pickle_v2.to_parquet('../data/data_limpio/eventos_madrid.parquet', engine=\"pyarrow\")"
   ]
  }
 ],
 "metadata": {
  "kernelspec": {
   "display_name": "venv",
   "language": "python",
   "name": "python3"
  },
  "language_info": {
   "codemirror_mode": {
    "name": "ipython",
    "version": 3
   },
   "file_extension": ".py",
   "mimetype": "text/x-python",
   "name": "python",
   "nbconvert_exporter": "python",
   "pygments_lexer": "ipython3",
   "version": "3.12.4"
  }
 },
 "nbformat": 4,
 "nbformat_minor": 2
}
